{
 "cells": [
  {
   "cell_type": "code",
   "execution_count": 1,
   "metadata": {},
   "outputs": [
    {
     "name": "stderr",
     "output_type": "stream",
     "text": [
      "C:\\Users\\Javier\\AppData\\Roaming\\Python\\Python310\\site-packages\\transformers\\utils\\generic.py:441: UserWarning: torch.utils._pytree._register_pytree_node is deprecated. Please use torch.utils._pytree.register_pytree_node instead.\n",
      "  _torch_pytree._register_pytree_node(\n"
     ]
    }
   ],
   "source": [
    "import sys\n",
    "sys.path.append('../')\n",
    "\n",
    "import albumentations as A\n",
    "import src.training as train\n",
    "import src.dataset as dataset\n",
    "from  src.models import resnet,siamesenet\n",
    "from PIL import Image\n",
    "import os\n",
    "import numpy as np\n",
    "import matplotlib.pyplot as plt\n",
    "import torch\n",
    "from torch.utils.data import Dataset , DataLoader\n",
    "from torchvision import transforms"
   ]
  },
  {
   "cell_type": "code",
   "execution_count": null,
   "metadata": {},
   "outputs": [],
   "source": [
    "batch_size = 128\n",
    "\n",
    "transform = transforms.Compose([\n",
    "    transforms.Resize((105, 105)),\n",
    "    transforms.ToTensor()\n",
    "    ])\n",
    "\n",
    "albumentations_transform = A.Compose([\n",
    "    A.ColorJitter(brightness=0.0, contrast=0.0, saturation=0.0, hue=0.25, p=0.0),\n",
    "    A.GridElasticDeform(num_grid_xy = (7,7), magnitude = 30),\n",
    "    A.Resize(105,105),\n",
    "])\n",
    "same_class_transform = dataset.TorchAlbumentationTransform(albumentations_transform)\n",
    "\n",
    "train_dataset = dataset.SiameseDataset(\n",
    "    \"../data/cropped_selected_split_data/train\",\n",
    "    transform = transform,\n",
    "    max_positive_combinations=10,\n",
    "    max_negative_combinations=10,\n",
    "    same_class_negatives=0.5,\n",
    "    same_class_transform=same_class_transform\n",
    "    )\n",
    "\n",
    "validation_dataset = dataset.SiameseDataset(\n",
    "    \"../data/cropped_selected_split_data/val\",\n",
    "    transform = transform,\n",
    "    max_positive_combinations=5,\n",
    "    max_negative_combinations=5,\n",
    "    same_class_negatives=0.5,\n",
    "    same_class_transform=same_class_transform\n",
    "    )\n",
    "\n",
    "dataloader = {\n",
    "    'train': DataLoader(train_dataset, shuffle=True, batch_size=batch_size),\n",
    "    'val': DataLoader(train_dataset, shuffle=True, batch_size=batch_size)\n",
    "}"
   ]
  },
  {
   "cell_type": "markdown",
   "metadata": {},
   "source": [
    "## Model definition"
   ]
  },
  {
   "cell_type": "code",
   "execution_count": null,
   "metadata": {},
   "outputs": [],
   "source": [
    "backbone = resnet.prunnedResnet18(\n",
    "    pretrained=True,\n",
    "    freeze_ratio=0.8,\n",
    "    remove_classifier=True)\n",
    "model = siamesenet.siameseNet(backbone,512)\n",
    "result = train.train_siamese_network_V2(model=model,\n",
    "                                        dataloader=dataloader,\n",
    "                                        name=\"siamese_resnet_18\",\n",
    "                                        checkpoint_path=\"..//checkpoints\")"
   ]
  },
  {
   "cell_type": "code",
   "execution_count": null,
   "metadata": {},
   "outputs": [],
   "source": [
    "train.show_graph(result)"
   ]
  },
  {
   "cell_type": "code",
   "execution_count": null,
   "metadata": {},
   "outputs": [],
   "source": [
    "test_dataset = dataset.SiameseDataset(\n",
    "    \"../data/cropped_selected_split_data/test\",\n",
    "    transform = transform,\n",
    "    max_positive_combinations=5,\n",
    "    max_negative_combinations=5,\n",
    "    )\n",
    "test_dataloader = DataLoader(test_dataset, shuffle=True, batch_size=batch_size)\n",
    "\n",
    "train.evaluate_model(test_loader=test_dataloader,\n",
    "                     model=model)"
   ]
  }
 ],
 "metadata": {
  "kernelspec": {
   "display_name": "Python 3",
   "language": "python",
   "name": "python3"
  },
  "language_info": {
   "codemirror_mode": {
    "name": "ipython",
    "version": 3
   },
   "file_extension": ".py",
   "mimetype": "text/x-python",
   "name": "python",
   "nbconvert_exporter": "python",
   "pygments_lexer": "ipython3",
   "version": "3.10.11"
  }
 },
 "nbformat": 4,
 "nbformat_minor": 2
}
